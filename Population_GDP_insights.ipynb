{
  "nbformat": 4,
  "nbformat_minor": 0,
  "metadata": {
    "colab": {
      "name": "Population GDP insights.ipynb",
      "provenance": [],
      "collapsed_sections": [],
      "authorship_tag": "ABX9TyOBEY6taS+OxGhSoapSaNY+",
      "include_colab_link": true
    },
    "kernelspec": {
      "name": "python3",
      "display_name": "Python 3"
    },
    "language_info": {
      "name": "python"
    }
  },
  "cells": [
    {
      "cell_type": "markdown",
      "metadata": {
        "id": "view-in-github",
        "colab_type": "text"
      },
      "source": [
        "<a href=\"https://colab.research.google.com/github/mehtamishah/pandas-playground/blob/main/Population_GDP_insights.ipynb\" target=\"_parent\"><img src=\"https://colab.research.google.com/assets/colab-badge.svg\" alt=\"Open In Colab\"/></a>"
      ]
    },
    {
      "cell_type": "code",
      "metadata": {
        "id": "uk_iySCYrGpr"
      },
      "source": [
        "import numpy as np\n",
        "import pandas as pd\n",
        "import matplotlib.pyplot as plt\n",
        "import seaborn as sns"
      ],
      "execution_count": 33,
      "outputs": []
    },
    {
      "cell_type": "code",
      "metadata": {
        "id": "jlIgf5PgrjNG"
      },
      "source": [
        "population = pd.read_csv('population_data.csv', header = 2)\n",
        "gdp = pd.read_csv('gdp_data.csv', header = 2)\n",
        "population_region = pd.read_csv('population_incomegroup.csv')\n",
        "gdp_region = pd.read_csv('gdp_incomegroup.csv')"
      ],
      "execution_count": 34,
      "outputs": []
    },
    {
      "cell_type": "code",
      "metadata": {
        "colab": {
          "base_uri": "https://localhost:8080/",
          "height": 134
        },
        "id": "B81_7VAwtQ7R",
        "outputId": "d0131ba7-1cf9-46d5-a95c-0b63d37b6661"
      },
      "source": [
        "population.head(1)"
      ],
      "execution_count": 35,
      "outputs": [
        {
          "output_type": "execute_result",
          "data": {
            "text/html": [
              "<div>\n",
              "<style scoped>\n",
              "    .dataframe tbody tr th:only-of-type {\n",
              "        vertical-align: middle;\n",
              "    }\n",
              "\n",
              "    .dataframe tbody tr th {\n",
              "        vertical-align: top;\n",
              "    }\n",
              "\n",
              "    .dataframe thead th {\n",
              "        text-align: right;\n",
              "    }\n",
              "</style>\n",
              "<table border=\"1\" class=\"dataframe\">\n",
              "  <thead>\n",
              "    <tr style=\"text-align: right;\">\n",
              "      <th></th>\n",
              "      <th>Country Name</th>\n",
              "      <th>Country Code</th>\n",
              "      <th>Indicator Name</th>\n",
              "      <th>Indicator Code</th>\n",
              "      <th>1960</th>\n",
              "      <th>1961</th>\n",
              "      <th>1962</th>\n",
              "      <th>1963</th>\n",
              "      <th>1964</th>\n",
              "      <th>1965</th>\n",
              "      <th>1966</th>\n",
              "      <th>1967</th>\n",
              "      <th>1968</th>\n",
              "      <th>1969</th>\n",
              "      <th>1970</th>\n",
              "      <th>1971</th>\n",
              "      <th>1972</th>\n",
              "      <th>1973</th>\n",
              "      <th>1974</th>\n",
              "      <th>1975</th>\n",
              "      <th>1976</th>\n",
              "      <th>1977</th>\n",
              "      <th>1978</th>\n",
              "      <th>1979</th>\n",
              "      <th>1980</th>\n",
              "      <th>1981</th>\n",
              "      <th>1982</th>\n",
              "      <th>1983</th>\n",
              "      <th>1984</th>\n",
              "      <th>1985</th>\n",
              "      <th>1986</th>\n",
              "      <th>1987</th>\n",
              "      <th>1988</th>\n",
              "      <th>1989</th>\n",
              "      <th>1990</th>\n",
              "      <th>1991</th>\n",
              "      <th>1992</th>\n",
              "      <th>1993</th>\n",
              "      <th>1994</th>\n",
              "      <th>1995</th>\n",
              "      <th>1996</th>\n",
              "      <th>1997</th>\n",
              "      <th>1998</th>\n",
              "      <th>1999</th>\n",
              "      <th>2000</th>\n",
              "      <th>2001</th>\n",
              "      <th>2002</th>\n",
              "      <th>2003</th>\n",
              "      <th>2004</th>\n",
              "      <th>2005</th>\n",
              "      <th>2006</th>\n",
              "      <th>2007</th>\n",
              "      <th>2008</th>\n",
              "      <th>2009</th>\n",
              "      <th>2010</th>\n",
              "      <th>2011</th>\n",
              "      <th>2012</th>\n",
              "      <th>2013</th>\n",
              "      <th>2014</th>\n",
              "      <th>2015</th>\n",
              "      <th>2016</th>\n",
              "      <th>2017</th>\n",
              "      <th>2018</th>\n",
              "      <th>2019</th>\n",
              "      <th>2020</th>\n",
              "      <th>Unnamed: 65</th>\n",
              "    </tr>\n",
              "  </thead>\n",
              "  <tbody>\n",
              "    <tr>\n",
              "      <th>0</th>\n",
              "      <td>Aruba</td>\n",
              "      <td>ABW</td>\n",
              "      <td>Population, total</td>\n",
              "      <td>SP.POP.TOTL</td>\n",
              "      <td>54208.0</td>\n",
              "      <td>55434.0</td>\n",
              "      <td>56234.0</td>\n",
              "      <td>56699.0</td>\n",
              "      <td>57029.0</td>\n",
              "      <td>57357.0</td>\n",
              "      <td>57702.0</td>\n",
              "      <td>58044.0</td>\n",
              "      <td>58377.0</td>\n",
              "      <td>58734.0</td>\n",
              "      <td>59070.0</td>\n",
              "      <td>59442.0</td>\n",
              "      <td>59849.0</td>\n",
              "      <td>60236.0</td>\n",
              "      <td>60527.0</td>\n",
              "      <td>60653.0</td>\n",
              "      <td>60586.0</td>\n",
              "      <td>60366.0</td>\n",
              "      <td>60102.0</td>\n",
              "      <td>59972.0</td>\n",
              "      <td>60097.0</td>\n",
              "      <td>60561.0</td>\n",
              "      <td>61341.0</td>\n",
              "      <td>62213.0</td>\n",
              "      <td>62826.0</td>\n",
              "      <td>63024.0</td>\n",
              "      <td>62645.0</td>\n",
              "      <td>61838.0</td>\n",
              "      <td>61072.0</td>\n",
              "      <td>61033.0</td>\n",
              "      <td>62152.0</td>\n",
              "      <td>64623.0</td>\n",
              "      <td>68240.0</td>\n",
              "      <td>72495.0</td>\n",
              "      <td>76705.0</td>\n",
              "      <td>80324.0</td>\n",
              "      <td>83211.0</td>\n",
              "      <td>85450.0</td>\n",
              "      <td>87280.0</td>\n",
              "      <td>89009.0</td>\n",
              "      <td>90866.0</td>\n",
              "      <td>92892.0</td>\n",
              "      <td>94992.0</td>\n",
              "      <td>97016.0</td>\n",
              "      <td>98744.0</td>\n",
              "      <td>100028.0</td>\n",
              "      <td>100830.0</td>\n",
              "      <td>101226.0</td>\n",
              "      <td>101362.0</td>\n",
              "      <td>101452.0</td>\n",
              "      <td>101665.0</td>\n",
              "      <td>102050.0</td>\n",
              "      <td>102565.0</td>\n",
              "      <td>103165.0</td>\n",
              "      <td>103776.0</td>\n",
              "      <td>104339.0</td>\n",
              "      <td>104865.0</td>\n",
              "      <td>105361.0</td>\n",
              "      <td>105846.0</td>\n",
              "      <td>106310.0</td>\n",
              "      <td>106766.0</td>\n",
              "      <td>NaN</td>\n",
              "    </tr>\n",
              "  </tbody>\n",
              "</table>\n",
              "</div>"
            ],
            "text/plain": [
              "  Country Name Country Code     Indicator Name  ...      2019      2020  Unnamed: 65\n",
              "0        Aruba          ABW  Population, total  ...  106310.0  106766.0          NaN\n",
              "\n",
              "[1 rows x 66 columns]"
            ]
          },
          "metadata": {},
          "execution_count": 35
        }
      ]
    },
    {
      "cell_type": "code",
      "metadata": {
        "colab": {
          "base_uri": "https://localhost:8080/",
          "height": 233
        },
        "id": "pJ6p1ITMtRJB",
        "outputId": "e8d74f2e-0384-4bcc-a8ac-5bd8a75fc7e7"
      },
      "source": [
        "gdp.head(2)"
      ],
      "execution_count": 36,
      "outputs": [
        {
          "output_type": "execute_result",
          "data": {
            "text/html": [
              "<div>\n",
              "<style scoped>\n",
              "    .dataframe tbody tr th:only-of-type {\n",
              "        vertical-align: middle;\n",
              "    }\n",
              "\n",
              "    .dataframe tbody tr th {\n",
              "        vertical-align: top;\n",
              "    }\n",
              "\n",
              "    .dataframe thead th {\n",
              "        text-align: right;\n",
              "    }\n",
              "</style>\n",
              "<table border=\"1\" class=\"dataframe\">\n",
              "  <thead>\n",
              "    <tr style=\"text-align: right;\">\n",
              "      <th></th>\n",
              "      <th>Country Name</th>\n",
              "      <th>Country Code</th>\n",
              "      <th>Indicator Name</th>\n",
              "      <th>Indicator Code</th>\n",
              "      <th>1960</th>\n",
              "      <th>1961</th>\n",
              "      <th>1962</th>\n",
              "      <th>1963</th>\n",
              "      <th>1964</th>\n",
              "      <th>1965</th>\n",
              "      <th>1966</th>\n",
              "      <th>1967</th>\n",
              "      <th>1968</th>\n",
              "      <th>1969</th>\n",
              "      <th>1970</th>\n",
              "      <th>1971</th>\n",
              "      <th>1972</th>\n",
              "      <th>1973</th>\n",
              "      <th>1974</th>\n",
              "      <th>1975</th>\n",
              "      <th>1976</th>\n",
              "      <th>1977</th>\n",
              "      <th>1978</th>\n",
              "      <th>1979</th>\n",
              "      <th>1980</th>\n",
              "      <th>1981</th>\n",
              "      <th>1982</th>\n",
              "      <th>1983</th>\n",
              "      <th>1984</th>\n",
              "      <th>1985</th>\n",
              "      <th>1986</th>\n",
              "      <th>1987</th>\n",
              "      <th>1988</th>\n",
              "      <th>1989</th>\n",
              "      <th>1990</th>\n",
              "      <th>1991</th>\n",
              "      <th>1992</th>\n",
              "      <th>1993</th>\n",
              "      <th>1994</th>\n",
              "      <th>1995</th>\n",
              "      <th>1996</th>\n",
              "      <th>1997</th>\n",
              "      <th>1998</th>\n",
              "      <th>1999</th>\n",
              "      <th>2000</th>\n",
              "      <th>2001</th>\n",
              "      <th>2002</th>\n",
              "      <th>2003</th>\n",
              "      <th>2004</th>\n",
              "      <th>2005</th>\n",
              "      <th>2006</th>\n",
              "      <th>2007</th>\n",
              "      <th>2008</th>\n",
              "      <th>2009</th>\n",
              "      <th>2010</th>\n",
              "      <th>2011</th>\n",
              "      <th>2012</th>\n",
              "      <th>2013</th>\n",
              "      <th>2014</th>\n",
              "      <th>2015</th>\n",
              "      <th>2016</th>\n",
              "      <th>2017</th>\n",
              "      <th>2018</th>\n",
              "      <th>2019</th>\n",
              "      <th>2020</th>\n",
              "      <th>Unnamed: 65</th>\n",
              "    </tr>\n",
              "  </thead>\n",
              "  <tbody>\n",
              "    <tr>\n",
              "      <th>0</th>\n",
              "      <td>Aruba</td>\n",
              "      <td>ABW</td>\n",
              "      <td>GDP (current US$)</td>\n",
              "      <td>NY.GDP.MKTP.CD</td>\n",
              "      <td>NaN</td>\n",
              "      <td>NaN</td>\n",
              "      <td>NaN</td>\n",
              "      <td>NaN</td>\n",
              "      <td>NaN</td>\n",
              "      <td>NaN</td>\n",
              "      <td>NaN</td>\n",
              "      <td>NaN</td>\n",
              "      <td>NaN</td>\n",
              "      <td>NaN</td>\n",
              "      <td>NaN</td>\n",
              "      <td>NaN</td>\n",
              "      <td>NaN</td>\n",
              "      <td>NaN</td>\n",
              "      <td>NaN</td>\n",
              "      <td>NaN</td>\n",
              "      <td>NaN</td>\n",
              "      <td>NaN</td>\n",
              "      <td>NaN</td>\n",
              "      <td>NaN</td>\n",
              "      <td>NaN</td>\n",
              "      <td>NaN</td>\n",
              "      <td>NaN</td>\n",
              "      <td>NaN</td>\n",
              "      <td>NaN</td>\n",
              "      <td>NaN</td>\n",
              "      <td>4.054634e+08</td>\n",
              "      <td>4.876025e+08</td>\n",
              "      <td>5.964236e+08</td>\n",
              "      <td>6.953044e+08</td>\n",
              "      <td>7.648871e+08</td>\n",
              "      <td>8.721387e+08</td>\n",
              "      <td>9.584632e+08</td>\n",
              "      <td>1.082980e+09</td>\n",
              "      <td>1.245688e+09</td>\n",
              "      <td>1.320475e+09</td>\n",
              "      <td>1.379961e+09</td>\n",
              "      <td>1.531944e+09</td>\n",
              "      <td>1.665101e+09</td>\n",
              "      <td>1.722799e+09</td>\n",
              "      <td>1.873453e+09</td>\n",
              "      <td>1.920112e+09</td>\n",
              "      <td>1.941341e+09</td>\n",
              "      <td>2.021229e+09</td>\n",
              "      <td>2.228492e+09</td>\n",
              "      <td>2.330726e+09</td>\n",
              "      <td>2.424581e+09</td>\n",
              "      <td>2.615084e+09</td>\n",
              "      <td>2.745251e+09</td>\n",
              "      <td>2.498883e+09</td>\n",
              "      <td>2.390503e+09</td>\n",
              "      <td>2.549721e+09</td>\n",
              "      <td>2.534637e+09</td>\n",
              "      <td>2.727850e+09</td>\n",
              "      <td>2.790849e+09</td>\n",
              "      <td>2.962905e+09</td>\n",
              "      <td>2.983637e+09</td>\n",
              "      <td>3.092430e+09</td>\n",
              "      <td>3.202189e+09</td>\n",
              "      <td>NaN</td>\n",
              "      <td>NaN</td>\n",
              "      <td>NaN</td>\n",
              "    </tr>\n",
              "    <tr>\n",
              "      <th>1</th>\n",
              "      <td>Africa Eastern and Southern</td>\n",
              "      <td>AFE</td>\n",
              "      <td>GDP (current US$)</td>\n",
              "      <td>NY.GDP.MKTP.CD</td>\n",
              "      <td>1.929193e+10</td>\n",
              "      <td>1.970186e+10</td>\n",
              "      <td>2.147035e+10</td>\n",
              "      <td>2.570500e+10</td>\n",
              "      <td>2.350165e+10</td>\n",
              "      <td>2.678117e+10</td>\n",
              "      <td>2.912019e+10</td>\n",
              "      <td>3.014009e+10</td>\n",
              "      <td>3.284101e+10</td>\n",
              "      <td>3.770296e+10</td>\n",
              "      <td>4.027158e+10</td>\n",
              "      <td>4.442789e+10</td>\n",
              "      <td>4.824852e+10</td>\n",
              "      <td>6.291444e+10</td>\n",
              "      <td>7.816508e+10</td>\n",
              "      <td>8.334408e+10</td>\n",
              "      <td>8.311919e+10</td>\n",
              "      <td>9.488479e+10</td>\n",
              "      <td>1.062295e+11</td>\n",
              "      <td>1.243617e+11</td>\n",
              "      <td>1.563411e+11</td>\n",
              "      <td>1.602022e+11</td>\n",
              "      <td>1.544998e+11</td>\n",
              "      <td>1.595823e+11</td>\n",
              "      <td>1.458618e+11</td>\n",
              "      <td>1.302968e+11</td>\n",
              "      <td>1.468640e+11</td>\n",
              "      <td>1.795424e+11</td>\n",
              "      <td>1.887960e+11</td>\n",
              "      <td>1.943300e+11</td>\n",
              "      <td>2.121032e+11</td>\n",
              "      <td>2.205216e+11</td>\n",
              "      <td>2.199773e+11</td>\n",
              "      <td>2.203721e+11</td>\n",
              "      <td>2.245112e+11</td>\n",
              "      <td>2.524746e+11</td>\n",
              "      <td>2.518900e+11</td>\n",
              "      <td>2.648551e+11</td>\n",
              "      <td>2.497234e+11</td>\n",
              "      <td>2.464216e+11</td>\n",
              "      <td>2.676138e+11</td>\n",
              "      <td>2.414727e+11</td>\n",
              "      <td>2.470095e+11</td>\n",
              "      <td>3.258902e+11</td>\n",
              "      <td>4.047997e+11</td>\n",
              "      <td>4.705097e+11</td>\n",
              "      <td>5.321390e+11</td>\n",
              "      <td>6.115618e+11</td>\n",
              "      <td>6.662911e+11</td>\n",
              "      <td>6.692327e+11</td>\n",
              "      <td>8.036886e+11</td>\n",
              "      <td>8.962561e+11</td>\n",
              "      <td>9.131974e+11</td>\n",
              "      <td>9.276555e+11</td>\n",
              "      <td>9.563187e+11</td>\n",
              "      <td>8.930997e+11</td>\n",
              "      <td>8.547519e+11</td>\n",
              "      <td>9.622690e+11</td>\n",
              "      <td>9.840320e+11</td>\n",
              "      <td>9.778092e+11</td>\n",
              "      <td>8.984741e+11</td>\n",
              "      <td>NaN</td>\n",
              "    </tr>\n",
              "  </tbody>\n",
              "</table>\n",
              "</div>"
            ],
            "text/plain": [
              "                  Country Name Country Code  ...          2020 Unnamed: 65\n",
              "0                        Aruba          ABW  ...           NaN         NaN\n",
              "1  Africa Eastern and Southern          AFE  ...  8.984741e+11         NaN\n",
              "\n",
              "[2 rows x 66 columns]"
            ]
          },
          "metadata": {},
          "execution_count": 36
        }
      ]
    },
    {
      "cell_type": "code",
      "metadata": {
        "colab": {
          "base_uri": "https://localhost:8080/",
          "height": 162
        },
        "id": "U0VArxVFXhHt",
        "outputId": "7ba6a3e1-ac98-452b-b3a0-d8a6ee727b6a"
      },
      "source": [
        "population_region.head(2)"
      ],
      "execution_count": 37,
      "outputs": [
        {
          "output_type": "execute_result",
          "data": {
            "text/html": [
              "<div>\n",
              "<style scoped>\n",
              "    .dataframe tbody tr th:only-of-type {\n",
              "        vertical-align: middle;\n",
              "    }\n",
              "\n",
              "    .dataframe tbody tr th {\n",
              "        vertical-align: top;\n",
              "    }\n",
              "\n",
              "    .dataframe thead th {\n",
              "        text-align: right;\n",
              "    }\n",
              "</style>\n",
              "<table border=\"1\" class=\"dataframe\">\n",
              "  <thead>\n",
              "    <tr style=\"text-align: right;\">\n",
              "      <th></th>\n",
              "      <th>Country Code</th>\n",
              "      <th>Region</th>\n",
              "      <th>IncomeGroup</th>\n",
              "      <th>SpecialNotes</th>\n",
              "      <th>TableName</th>\n",
              "      <th>Unnamed: 5</th>\n",
              "    </tr>\n",
              "  </thead>\n",
              "  <tbody>\n",
              "    <tr>\n",
              "      <th>0</th>\n",
              "      <td>ABW</td>\n",
              "      <td>Latin America &amp; Caribbean</td>\n",
              "      <td>High income</td>\n",
              "      <td>NaN</td>\n",
              "      <td>Aruba</td>\n",
              "      <td>NaN</td>\n",
              "    </tr>\n",
              "    <tr>\n",
              "      <th>1</th>\n",
              "      <td>AFE</td>\n",
              "      <td>NaN</td>\n",
              "      <td>NaN</td>\n",
              "      <td>26 countries, stretching from the Red Sea in t...</td>\n",
              "      <td>Africa Eastern and Southern</td>\n",
              "      <td>NaN</td>\n",
              "    </tr>\n",
              "  </tbody>\n",
              "</table>\n",
              "</div>"
            ],
            "text/plain": [
              "  Country Code  ... Unnamed: 5\n",
              "0          ABW  ...        NaN\n",
              "1          AFE  ...        NaN\n",
              "\n",
              "[2 rows x 6 columns]"
            ]
          },
          "metadata": {},
          "execution_count": 37
        }
      ]
    },
    {
      "cell_type": "code",
      "metadata": {
        "colab": {
          "base_uri": "https://localhost:8080/",
          "height": 162
        },
        "id": "kjGVAdXhXhSC",
        "outputId": "dc08f630-dbd1-48ad-f749-0c4669f40b0d"
      },
      "source": [
        "gdp_region.head(2)"
      ],
      "execution_count": 38,
      "outputs": [
        {
          "output_type": "execute_result",
          "data": {
            "text/html": [
              "<div>\n",
              "<style scoped>\n",
              "    .dataframe tbody tr th:only-of-type {\n",
              "        vertical-align: middle;\n",
              "    }\n",
              "\n",
              "    .dataframe tbody tr th {\n",
              "        vertical-align: top;\n",
              "    }\n",
              "\n",
              "    .dataframe thead th {\n",
              "        text-align: right;\n",
              "    }\n",
              "</style>\n",
              "<table border=\"1\" class=\"dataframe\">\n",
              "  <thead>\n",
              "    <tr style=\"text-align: right;\">\n",
              "      <th></th>\n",
              "      <th>Country Code</th>\n",
              "      <th>Region</th>\n",
              "      <th>IncomeGroup</th>\n",
              "      <th>SpecialNotes</th>\n",
              "      <th>TableName</th>\n",
              "      <th>Unnamed: 5</th>\n",
              "    </tr>\n",
              "  </thead>\n",
              "  <tbody>\n",
              "    <tr>\n",
              "      <th>0</th>\n",
              "      <td>ABW</td>\n",
              "      <td>Latin America &amp; Caribbean</td>\n",
              "      <td>High income</td>\n",
              "      <td>NaN</td>\n",
              "      <td>Aruba</td>\n",
              "      <td>NaN</td>\n",
              "    </tr>\n",
              "    <tr>\n",
              "      <th>1</th>\n",
              "      <td>AFE</td>\n",
              "      <td>NaN</td>\n",
              "      <td>NaN</td>\n",
              "      <td>26 countries, stretching from the Red Sea in t...</td>\n",
              "      <td>Africa Eastern and Southern</td>\n",
              "      <td>NaN</td>\n",
              "    </tr>\n",
              "  </tbody>\n",
              "</table>\n",
              "</div>"
            ],
            "text/plain": [
              "  Country Code  ... Unnamed: 5\n",
              "0          ABW  ...        NaN\n",
              "1          AFE  ...        NaN\n",
              "\n",
              "[2 rows x 6 columns]"
            ]
          },
          "metadata": {},
          "execution_count": 38
        }
      ]
    },
    {
      "cell_type": "markdown",
      "metadata": {
        "id": "KgiN3D2waP3_"
      },
      "source": [
        "Dropping empty columns"
      ]
    },
    {
      "cell_type": "code",
      "metadata": {
        "colab": {
          "base_uri": "https://localhost:8080/"
        },
        "id": "Cm6WDMhotWXw",
        "outputId": "6436429b-5e5d-44b8-fc0f-bc46e610d081"
      },
      "source": [
        "population[\"Unnamed: 65\"].sum()"
      ],
      "execution_count": 39,
      "outputs": [
        {
          "output_type": "execute_result",
          "data": {
            "text/plain": [
              "0.0"
            ]
          },
          "metadata": {},
          "execution_count": 39
        }
      ]
    },
    {
      "cell_type": "code",
      "metadata": {
        "colab": {
          "base_uri": "https://localhost:8080/"
        },
        "id": "AuGjdY_XtXr_",
        "outputId": "89e272b2-9928-4a2d-f2dc-c2a1957e26cd"
      },
      "source": [
        "gdp[\"Unnamed: 65\"].sum()"
      ],
      "execution_count": 40,
      "outputs": [
        {
          "output_type": "execute_result",
          "data": {
            "text/plain": [
              "0.0"
            ]
          },
          "metadata": {},
          "execution_count": 40
        }
      ]
    },
    {
      "cell_type": "code",
      "metadata": {
        "colab": {
          "base_uri": "https://localhost:8080/"
        },
        "id": "XMfrRrDvXJTq",
        "outputId": "aea6939d-0642-4314-b397-c998289d0602"
      },
      "source": [
        "population_region[\"Unnamed: 5\"].sum()"
      ],
      "execution_count": 41,
      "outputs": [
        {
          "output_type": "execute_result",
          "data": {
            "text/plain": [
              "0.0"
            ]
          },
          "metadata": {},
          "execution_count": 41
        }
      ]
    },
    {
      "cell_type": "code",
      "metadata": {
        "colab": {
          "base_uri": "https://localhost:8080/"
        },
        "id": "5wR_6gk1XJjj",
        "outputId": "bee6ed0a-9523-4cc8-9566-4a10f47c1eda"
      },
      "source": [
        "gdp_region[\"Unnamed: 5\"].sum()"
      ],
      "execution_count": 42,
      "outputs": [
        {
          "output_type": "execute_result",
          "data": {
            "text/plain": [
              "0.0"
            ]
          },
          "metadata": {},
          "execution_count": 42
        }
      ]
    },
    {
      "cell_type": "code",
      "metadata": {
        "id": "5LS1acTIwoao"
      },
      "source": [
        "#Dropping the last column since it is empty\n",
        "population.drop(axis = 1, columns = \"Unnamed: 65\", inplace = True)\n",
        "gdp.drop(axis = 1, columns = \"Unnamed: 65\", inplace = True)\n",
        "population_region.drop(axis = 1, columns = \"Unnamed: 5\", inplace = True)\n",
        "gdp_region.drop(axis = 1, columns = \"Unnamed: 5\", inplace = True)"
      ],
      "execution_count": 43,
      "outputs": []
    },
    {
      "cell_type": "code",
      "metadata": {
        "id": "U0VIY4on1JgU"
      },
      "source": [
        "population_merged = population.merge(population_region, how = 'inner', on = 'Country Code')\n",
        "gdp_merged = gdp.merge(gdp_region, how = 'inner', on = 'Country Code')"
      ],
      "execution_count": 44,
      "outputs": []
    },
    {
      "cell_type": "code",
      "metadata": {
        "id": "W1ZXAlYc_1SR"
      },
      "source": [
        "index_to_delete = population_merged[population_merged['Region'].isnull()].index.values\n",
        "population_merged.drop(index = index_to_delete, inplace = True)\n",
        "\n",
        "index_to_delete = gdp_merged[gdp_merged['Region'].isnull()].index.values\n",
        "gdp_merged.drop(index = index_to_delete, inplace = True)"
      ],
      "execution_count": 45,
      "outputs": []
    },
    {
      "cell_type": "markdown",
      "metadata": {
        "id": "lS4Q2LOSaDRs"
      },
      "source": [
        "# Data Quality"
      ]
    },
    {
      "cell_type": "markdown",
      "metadata": {
        "id": "RQILQPMmWIpb"
      },
      "source": [
        "Data completeness by country (% of years we have data for)"
      ]
    },
    {
      "cell_type": "code",
      "metadata": {
        "id": "bfD8VgV5yOAv"
      },
      "source": [
        "# for i in range (0, len(population)):\n",
        "#   (population[population['Country Name']=='Aruba'].count(axis = 1)-4)*100/61\n",
        "def data_completeness_by_country(df):\n",
        "    d = len(df.loc[0,'1960':'2020'])\n",
        "    result = []\n",
        "    for i in df.index:\n",
        "        null_count = sum(df.loc[i, '1960':'2020'].isnull())\n",
        "        country = df.loc[i]['Country Name']\n",
        "        result.append({'country':country, 'completeness' : round(((d-null_count)/d)* 100, 2)})\n",
        "    return result\n",
        "population_completeness = pd.DataFrame(data_completeness_by_country(population_merged))\n",
        "gdp_completeness = pd.DataFrame(data_completeness_by_country(gdp_merged))\n",
        "population_completeness.to_csv('population_completeness.csv')\n",
        "gdp_completeness.to_csv('gdp_completeness.csv')"
      ],
      "execution_count": 46,
      "outputs": []
    },
    {
      "cell_type": "code",
      "metadata": {
        "colab": {
          "base_uri": "https://localhost:8080/",
          "height": 385
        },
        "id": "CvdtgOUeDXCr",
        "outputId": "b31eaced-b509-4cf3-afae-12bf989cd050"
      },
      "source": [
        "sns.displot(population_completeness, x = 'completeness')\n",
        "plt.xlabel('Percentage of complete data')\n",
        "plt.ylabel('Number of countries')\n",
        "plt.title('Population data completeness')\n",
        "plt.show()"
      ],
      "execution_count": 47,
      "outputs": [
        {
          "output_type": "display_data",
          "data": {
            "image/png": "[encoded data removed]",
            "text/plain": [
              "<Figure size 360x360 with 1 Axes>"
            ]
          },
          "metadata": {
            "needs_background": "light"
          }
        }
      ]
    },
    {
      "cell_type": "code",
      "metadata": {
        "colab": {
          "base_uri": "https://localhost:8080/",
          "height": 385
        },
        "id": "B9Oppg52En9K",
        "outputId": "6a0d0a49-3bb6-430b-d13d-0b6f9c74efae"
      },
      "source": [
        "sns.displot(population_completeness[population_completeness['completeness'] != 100.0], x = 'completeness')\n",
        "plt.xlabel('Percentage of complete data')\n",
        "plt.ylabel('Number of countries')\n",
        "plt.title('Population data completeness: Number of countries with incomplete data only')\n",
        "plt.yticks(np.array([1,2]))\n",
        "plt.show()"
      ],
      "execution_count": 48,
      "outputs": [
        {
          "output_type": "display_data",
          "data": {
            "image/png": "[encoded data removed]",
            "text/plain": [
              "<Figure size 360x360 with 1 Axes>"
            ]
          },
          "metadata": {
            "needs_background": "light"
          }
        }
      ]
    },
    {
      "cell_type": "code",
      "metadata": {
        "colab": {
          "base_uri": "https://localhost:8080/",
          "height": 385
        },
        "id": "xFOrTuHmCUe2",
        "outputId": "1377df65-5bd7-4c69-ef68-f00f1bbdce4f"
      },
      "source": [
        "sns.displot(gdp_completeness, x = 'completeness')\n",
        "plt.xlabel('Percentage of complete data')\n",
        "plt.ylabel('Number of countries')\n",
        "plt.title('GDP data completeness')\n",
        "plt.show()"
      ],
      "execution_count": 49,
      "outputs": [
        {
          "output_type": "display_data",
          "data": {
            "image/png": "[encoded data removed]",
            "text/plain": [
              "<Figure size 360x360 with 1 Axes>"
            ]
          },
          "metadata": {
            "needs_background": "light"
          }
        }
      ]
    },
    {
      "cell_type": "markdown",
      "metadata": {
        "id": "Rq4q2pGuZlvq"
      },
      "source": [
        "# 5. Population Summary Statistics"
      ]
    },
    {
      "cell_type": "markdown",
      "metadata": {
        "id": "Dp9yVrHE1T-2"
      },
      "source": [
        "5A"
      ]
    },
    {
      "cell_type": "code",
      "metadata": {
        "id": "Xta2U83o9mtR"
      },
      "source": [
        "population_region_summary_statistics = population_merged.groupby(by = 'Region').agg([\"count\", \"mean\", \"std\", \"min\", \"max\"])\n",
        "population_region_summary_statistics.to_csv('5A Region population summary statistics.csv')"
      ],
      "execution_count": 50,
      "outputs": []
    },
    {
      "cell_type": "code",
      "metadata": {
        "colab": {
          "base_uri": "https://localhost:8080/"
        },
        "id": "h47n4pZ2satR",
        "outputId": "f9bfbe4f-aa4a-4411-83a9-f07dc507ab98"
      },
      "source": [
        "regions = population_merged['Region'].unique()\n",
        "regions"
      ],
      "execution_count": 51,
      "outputs": [
        {
          "output_type": "execute_result",
          "data": {
            "text/plain": [
              "array(['Latin America & Caribbean', 'South Asia', 'Sub-Saharan Africa',\n",
              "       'Europe & Central Asia', 'Middle East & North Africa',\n",
              "       'East Asia & Pacific', 'North America'], dtype=object)"
            ]
          },
          "metadata": {},
          "execution_count": 51
        }
      ]
    },
    {
      "cell_type": "code",
      "metadata": {
        "id": "rgHFatzntNKO"
      },
      "source": [
        "LatinAmericaCaribbean = population_merged[population_merged['Region'] == 'Latin America & Caribbean'].loc[:,'1960':'2020']\n",
        "SouthAsia = population_merged[population_merged['Region'] == 'South Asia'].loc[:,'1960':'2020']\n",
        "SubSaharanAfrica = population_merged[population_merged['Region'] == 'Sub-Saharan Africa'].loc[:,'1960':'2020']\n",
        "EuropeCentralAsia = population_merged[population_merged['Region'] == 'Europe & Central Asia'].loc[:,'1960':'2020']\n",
        "MiddleEastNorthAfrica = population_merged[population_merged['Region'] == 'Middle East & North Africa'].loc[:,'1960':'2020']\n",
        "EastAsiaPacific = population_merged[population_merged['Region'] == 'East Asia & Pacific'].loc[:,'1960':'2020']\n",
        "NorthAmerica = population_merged[population_merged['Region'] == 'North America'].loc[:,'1960':'2020']"
      ],
      "execution_count": 52,
      "outputs": []
    },
    {
      "cell_type": "markdown",
      "metadata": {
        "id": "k_5SP-Qq1POc"
      },
      "source": [
        "5B"
      ]
    },
    {
      "cell_type": "code",
      "metadata": {
        "colab": {
          "base_uri": "https://localhost:8080/",
          "height": 386
        },
        "id": "HzhCHq-p-L6-",
        "outputId": "992daa21-b3ab-40a6-98a1-e7260a105fab"
      },
      "source": [
        "print(\"POPULATION STATISTICS IN 2020 BY REGION\")\n",
        "fig = plt.figure(figsize = (10, 5))\n",
        "\n",
        "ax = plt.subplot(\"241\")\n",
        "ax.set_title(\"Latin America & Caribbean\")\n",
        "ax.boxplot(x = LatinAmericaCaribbean['2020'])\n",
        "\n",
        "ax = plt.subplot(\"242\")\n",
        "ax.set_title(\"South Asia\")\n",
        "ax.boxplot(x = SouthAsia['2020'])\n",
        "\n",
        "ax = plt.subplot(\"243\")\n",
        "ax.set_title(\"Sub-Saharan Africa\")\n",
        "ax.boxplot(x = SubSaharanAfrica['2020'])\n",
        "\n",
        "ax = plt.subplot(\"244\")\n",
        "ax.set_title(\"Europe & Central Asia\")\n",
        "ax.boxplot(x = EuropeCentralAsia['2020'])\n",
        "\n",
        "ax = plt.subplot(\"245\")\n",
        "ax.set_title(\"Middle East & North Africa\")\n",
        "ax.boxplot(x = MiddleEastNorthAfrica['2020'])\n",
        "\n",
        "ax = plt.subplot(\"246\")\n",
        "ax.set_title(\"East Asia & Pacific\")\n",
        "ax.boxplot(x = EastAsiaPacific['2020'])\n",
        "\n",
        "ax = plt.subplot(\"247\")\n",
        "ax.set_title(\"North America\")\n",
        "ax.boxplot(x = NorthAmerica['2020'])\n",
        "\n",
        "fig.tight_layout()\n",
        "plt.show()"
      ],
      "execution_count": 53,
      "outputs": [
        {
          "output_type": "stream",
          "text": [
            "POPULATION STATISTICS IN 2020 BY REGION\n"
          ],
          "name": "stdout"
        },
        {
          "output_type": "display_data",
          "data": {
            "image/png": "[encoded data removed]",
            "text/plain": [
              "<Figure size 720x360 with 7 Axes>"
            ]
          },
          "metadata": {
            "needs_background": "light"
          }
        }
      ]
    },
    {
      "cell_type": "markdown",
      "metadata": {
        "id": "l_mZFNGMaaVs"
      },
      "source": [
        "# 6. Identify and report which countries have < 30% of GDP data points"
      ]
    },
    {
      "cell_type": "code",
      "metadata": {
        "id": "FG6QESZEajHk"
      },
      "source": [
        "countries_gdplessthan30 = gdp_completeness[gdp_completeness['completeness'] < 30]['country']"
      ],
      "execution_count": 54,
      "outputs": []
    },
    {
      "cell_type": "code",
      "metadata": {
        "id": "JOEXD_NUByLs"
      },
      "source": [
        "index_countries_gdplessthan30 = gdp_merged[gdp_merged['Country Name'].isin(countries_gdplessthan30.tolist())].index.values"
      ],
      "execution_count": 55,
      "outputs": []
    },
    {
      "cell_type": "code",
      "metadata": {
        "id": "mkhWzPUfap7H"
      },
      "source": [
        "countries_gdplessthan30.to_csv('6 dropped_countries.csv')\n",
        "population_merged.drop(index = index_countries_gdplessthan30, inplace = True)\n",
        "gdp_merged.drop(index = index_countries_gdplessthan30, inplace = True)"
      ],
      "execution_count": 56,
      "outputs": []
    },
    {
      "cell_type": "markdown",
      "metadata": {
        "id": "wW2_i_FEaqMN"
      },
      "source": [
        "# 6. Infill missing GDP values"
      ]
    },
    {
      "cell_type": "markdown",
      "metadata": {
        "id": "lU2iwDhUidcw"
      },
      "source": [
        "6A"
      ]
    },
    {
      "cell_type": "code",
      "metadata": {
        "id": "VU_xVLVraukb"
      },
      "source": [
        "#Removing non-numerical data\n",
        "gdp_numeric = gdp_merged.loc[:,'1960':'2020']\n",
        "population_numeric = population_merged.loc[:,'1960':'2020']"
      ],
      "execution_count": 57,
      "outputs": []
    },
    {
      "cell_type": "code",
      "metadata": {
        "id": "7pRHCijNavmk"
      },
      "source": [
        "gdp_per_capita = gdp_numeric / population_numeric\n",
        "avgoverallcountries_gdp_per_capita = gdp_per_capita.describe().loc['mean']"
      ],
      "execution_count": 58,
      "outputs": []
    },
    {
      "cell_type": "code",
      "metadata": {
        "id": "FDDGxXHkbdGU"
      },
      "source": [
        "#Imputer gdp_per_capita dataframe by average gdp_per_capita for each year over all countries\n",
        "for x in avgoverallcountries_gdp_per_capita.index.values:\n",
        "  gdp_per_capita[x] = gdp_per_capita[x].fillna(avgoverallcountries_gdp_per_capita[x])"
      ],
      "execution_count": 59,
      "outputs": []
    },
    {
      "cell_type": "code",
      "metadata": {
        "id": "xxhde5ykfYqg"
      },
      "source": [
        "#Estimated GDP values\n",
        "gdp_numeric = gdp_per_capita * population_numeric"
      ],
      "execution_count": 60,
      "outputs": []
    },
    {
      "cell_type": "code",
      "metadata": {
        "id": "f1Tt-c2agE-8"
      },
      "source": [
        "#Added the estimated GDP values back into the dataframe\n",
        "gdp_merged.loc[:,'1960':'2020'] = gdp_numeric"
      ],
      "execution_count": 61,
      "outputs": []
    },
    {
      "cell_type": "markdown",
      "metadata": {
        "id": "QC6xCnHla7LB"
      },
      "source": [
        "# 7. GDP percent of country by income group"
      ]
    },
    {
      "cell_type": "code",
      "metadata": {
        "id": "UPuAYUuyh923"
      },
      "source": [
        "total_gdp_by_income_group = gdp_merged.groupby('IncomeGroup').agg('sum')"
      ],
      "execution_count": 62,
      "outputs": []
    },
    {
      "cell_type": "code",
      "metadata": {
        "id": "pOnSjQHajpwf"
      },
      "source": [
        "percent_gdp_country = pd.merge(gdp_merged, total_gdp_by_income_group, how='left' ,on='IncomeGroup',suffixes=('_c','_ig'))"
      ],
      "execution_count": 63,
      "outputs": []
    },
    {
      "cell_type": "code",
      "metadata": {
        "id": "R0ZeyvVRjp0c"
      },
      "source": [
        "c_name =[str(x) for x in list(range(1960, 2021))]\n",
        "for i in c_name:\n",
        "  percent_gdp_country[i] = (percent_gdp_country[i + '_c']/percent_gdp_country[i + '_ig'])*100\n",
        "\n",
        "percent_gdp_country_result = percent_gdp_country[['Country Name','Country Code'] + c_name]"
      ],
      "execution_count": 64,
      "outputs": []
    },
    {
      "cell_type": "code",
      "metadata": {
        "colab": {
          "base_uri": "https://localhost:8080/",
          "height": 490
        },
        "id": "dH5AUKQBsCL3",
        "outputId": "ab833b72-d036-4a8a-adea-7c3ffc2a72ca"
      },
      "source": [
        "#The % of GDP each country accounts for within its income group\n",
        "percent_gdp_country_result.to_csv('CountryGDPpercentbyincomegroup.csv')\n",
        "percent_gdp_country_result"
      ],
      "execution_count": 65,
      "outputs": [
        {
          "output_type": "execute_result",
          "data": {
            "text/html": [
              "<div>\n",
              "<style scoped>\n",
              "    .dataframe tbody tr th:only-of-type {\n",
              "        vertical-align: middle;\n",
              "    }\n",
              "\n",
              "    .dataframe tbody tr th {\n",
              "        vertical-align: top;\n",
              "    }\n",
              "\n",
              "    .dataframe thead th {\n",
              "        text-align: right;\n",
              "    }\n",
              "</style>\n",
              "<table border=\"1\" class=\"dataframe\">\n",
              "  <thead>\n",
              "    <tr style=\"text-align: right;\">\n",
              "      <th></th>\n",
              "      <th>Country Name</th>\n",
              "      <th>Country Code</th>\n",
              "      <th>1960</th>\n",
              "      <th>1961</th>\n",
              "      <th>1962</th>\n",
              "      <th>1963</th>\n",
              "      <th>1964</th>\n",
              "      <th>1965</th>\n",
              "      <th>1966</th>\n",
              "      <th>1967</th>\n",
              "      <th>1968</th>\n",
              "      <th>1969</th>\n",
              "      <th>1970</th>\n",
              "      <th>1971</th>\n",
              "      <th>1972</th>\n",
              "      <th>1973</th>\n",
              "      <th>1974</th>\n",
              "      <th>1975</th>\n",
              "      <th>1976</th>\n",
              "      <th>1977</th>\n",
              "      <th>1978</th>\n",
              "      <th>1979</th>\n",
              "      <th>1980</th>\n",
              "      <th>1981</th>\n",
              "      <th>1982</th>\n",
              "      <th>1983</th>\n",
              "      <th>1984</th>\n",
              "      <th>1985</th>\n",
              "      <th>1986</th>\n",
              "      <th>1987</th>\n",
              "      <th>1988</th>\n",
              "      <th>1989</th>\n",
              "      <th>1990</th>\n",
              "      <th>1991</th>\n",
              "      <th>1992</th>\n",
              "      <th>1993</th>\n",
              "      <th>1994</th>\n",
              "      <th>1995</th>\n",
              "      <th>1996</th>\n",
              "      <th>1997</th>\n",
              "      <th>1998</th>\n",
              "      <th>1999</th>\n",
              "      <th>2000</th>\n",
              "      <th>2001</th>\n",
              "      <th>2002</th>\n",
              "      <th>2003</th>\n",
              "      <th>2004</th>\n",
              "      <th>2005</th>\n",
              "      <th>2006</th>\n",
              "      <th>2007</th>\n",
              "      <th>2008</th>\n",
              "      <th>2009</th>\n",
              "      <th>2010</th>\n",
              "      <th>2011</th>\n",
              "      <th>2012</th>\n",
              "      <th>2013</th>\n",
              "      <th>2014</th>\n",
              "      <th>2015</th>\n",
              "      <th>2016</th>\n",
              "      <th>2017</th>\n",
              "      <th>2018</th>\n",
              "      <th>2019</th>\n",
              "      <th>2020</th>\n",
              "    </tr>\n",
              "  </thead>\n",
              "  <tbody>\n",
              "    <tr>\n",
              "      <th>0</th>\n",
              "      <td>Aruba</td>\n",
              "      <td>ABW</td>\n",
              "      <td>0.002724</td>\n",
              "      <td>0.002729</td>\n",
              "      <td>0.002676</td>\n",
              "      <td>0.002660</td>\n",
              "      <td>0.002669</td>\n",
              "      <td>0.002764</td>\n",
              "      <td>0.002730</td>\n",
              "      <td>0.002611</td>\n",
              "      <td>0.002500</td>\n",
              "      <td>0.002476</td>\n",
              "      <td>0.002653</td>\n",
              "      <td>0.002676</td>\n",
              "      <td>0.002694</td>\n",
              "      <td>0.002810</td>\n",
              "      <td>0.003193</td>\n",
              "      <td>0.003360</td>\n",
              "      <td>0.003328</td>\n",
              "      <td>0.003196</td>\n",
              "      <td>0.003015</td>\n",
              "      <td>0.003098</td>\n",
              "      <td>0.003142</td>\n",
              "      <td>0.002973</td>\n",
              "      <td>0.002897</td>\n",
              "      <td>0.002708</td>\n",
              "      <td>0.002578</td>\n",
              "      <td>0.002444</td>\n",
              "      <td>0.003257</td>\n",
              "      <td>0.003384</td>\n",
              "      <td>0.003682</td>\n",
              "      <td>0.004109</td>\n",
              "      <td>0.004071</td>\n",
              "      <td>0.004397</td>\n",
              "      <td>0.004501</td>\n",
              "      <td>0.005052</td>\n",
              "      <td>0.005422</td>\n",
              "      <td>0.005166</td>\n",
              "      <td>0.005353</td>\n",
              "      <td>0.006047</td>\n",
              "      <td>0.006540</td>\n",
              "      <td>0.006444</td>\n",
              "      <td>0.006874</td>\n",
              "      <td>0.007106</td>\n",
              "      <td>0.006893</td>\n",
              "      <td>0.006395</td>\n",
              "      <td>0.006333</td>\n",
              "      <td>0.006264</td>\n",
              "      <td>0.006168</td>\n",
              "      <td>0.006081</td>\n",
              "      <td>0.006004</td>\n",
              "      <td>0.005827</td>\n",
              "      <td>0.005321</td>\n",
              "      <td>0.005259</td>\n",
              "      <td>0.005223</td>\n",
              "      <td>0.005555</td>\n",
              "      <td>0.005562</td>\n",
              "      <td>0.006252</td>\n",
              "      <td>0.006165</td>\n",
              "      <td>0.006115</td>\n",
              "      <td>0.005957</td>\n",
              "      <td>0.003271</td>\n",
              "      <td>0.002878</td>\n",
              "    </tr>\n",
              "    <tr>\n",
              "      <th>1</th>\n",
              "      <td>Afghanistan</td>\n",
              "      <td>AFG</td>\n",
              "      <td>1.627169</td>\n",
              "      <td>1.590750</td>\n",
              "      <td>1.467547</td>\n",
              "      <td>1.768830</td>\n",
              "      <td>1.866769</td>\n",
              "      <td>2.031027</td>\n",
              "      <td>2.582792</td>\n",
              "      <td>3.266084</td>\n",
              "      <td>2.547419</td>\n",
              "      <td>2.335182</td>\n",
              "      <td>2.439885</td>\n",
              "      <td>2.248866</td>\n",
              "      <td>1.679019</td>\n",
              "      <td>1.439605</td>\n",
              "      <td>1.378397</td>\n",
              "      <td>1.261425</td>\n",
              "      <td>1.245646</td>\n",
              "      <td>1.284318</td>\n",
              "      <td>1.249622</td>\n",
              "      <td>1.176515</td>\n",
              "      <td>1.007895</td>\n",
              "      <td>1.743305</td>\n",
              "      <td>22.160758</td>\n",
              "      <td>21.286393</td>\n",
              "      <td>20.637513</td>\n",
              "      <td>19.744132</td>\n",
              "      <td>21.552998</td>\n",
              "      <td>21.543427</td>\n",
              "      <td>21.949050</td>\n",
              "      <td>22.328365</td>\n",
              "      <td>28.822212</td>\n",
              "      <td>34.830035</td>\n",
              "      <td>40.901531</td>\n",
              "      <td>42.184139</td>\n",
              "      <td>46.922673</td>\n",
              "      <td>48.184331</td>\n",
              "      <td>48.498086</td>\n",
              "      <td>47.578017</td>\n",
              "      <td>47.601148</td>\n",
              "      <td>47.991179</td>\n",
              "      <td>48.205387</td>\n",
              "      <td>49.710582</td>\n",
              "      <td>2.105103</td>\n",
              "      <td>2.052298</td>\n",
              "      <td>2.036380</td>\n",
              "      <td>2.108831</td>\n",
              "      <td>2.051150</td>\n",
              "      <td>2.383018</td>\n",
              "      <td>1.298626</td>\n",
              "      <td>1.681039</td>\n",
              "      <td>1.971695</td>\n",
              "      <td>2.028040</td>\n",
              "      <td>2.272940</td>\n",
              "      <td>2.980072</td>\n",
              "      <td>2.864576</td>\n",
              "      <td>2.965094</td>\n",
              "      <td>2.796867</td>\n",
              "      <td>2.839930</td>\n",
              "      <td>2.649163</td>\n",
              "      <td>1.672768</td>\n",
              "      <td>1.949216</td>\n",
              "    </tr>\n",
              "    <tr>\n",
              "      <th>2</th>\n",
              "      <td>Angola</td>\n",
              "      <td>AGO</td>\n",
              "      <td>1.361298</td>\n",
              "      <td>1.350954</td>\n",
              "      <td>1.358891</td>\n",
              "      <td>1.332004</td>\n",
              "      <td>1.308458</td>\n",
              "      <td>1.405945</td>\n",
              "      <td>1.476889</td>\n",
              "      <td>1.887737</td>\n",
              "      <td>1.825660</td>\n",
              "      <td>1.792135</td>\n",
              "      <td>1.895394</td>\n",
              "      <td>1.976123</td>\n",
              "      <td>2.079702</td>\n",
              "      <td>2.156808</td>\n",
              "      <td>2.181246</td>\n",
              "      <td>2.243922</td>\n",
              "      <td>2.273120</td>\n",
              "      <td>2.277019</td>\n",
              "      <td>2.357132</td>\n",
              "      <td>2.448761</td>\n",
              "      <td>0.373370</td>\n",
              "      <td>0.328735</td>\n",
              "      <td>0.329480</td>\n",
              "      <td>0.351229</td>\n",
              "      <td>0.377403</td>\n",
              "      <td>0.518877</td>\n",
              "      <td>0.438133</td>\n",
              "      <td>0.539692</td>\n",
              "      <td>0.608459</td>\n",
              "      <td>0.698049</td>\n",
              "      <td>0.783941</td>\n",
              "      <td>4.062139</td>\n",
              "      <td>4.772531</td>\n",
              "      <td>6.071481</td>\n",
              "      <td>0.240538</td>\n",
              "      <td>0.347150</td>\n",
              "      <td>0.427967</td>\n",
              "      <td>0.427792</td>\n",
              "      <td>0.387783</td>\n",
              "      <td>0.429621</td>\n",
              "      <td>0.609011</td>\n",
              "      <td>0.583391</td>\n",
              "      <td>0.931394</td>\n",
              "      <td>0.944792</td>\n",
              "      <td>1.077944</td>\n",
              "      <td>1.455224</td>\n",
              "      <td>1.736550</td>\n",
              "      <td>1.759072</td>\n",
              "      <td>2.109932</td>\n",
              "      <td>1.648285</td>\n",
              "      <td>1.615495</td>\n",
              "      <td>1.892687</td>\n",
              "      <td>2.066808</td>\n",
              "      <td>2.167334</td>\n",
              "      <td>2.220728</td>\n",
              "      <td>1.804295</td>\n",
              "      <td>1.504156</td>\n",
              "      <td>1.686382</td>\n",
              "      <td>1.381454</td>\n",
              "      <td>1.156774</td>\n",
              "      <td>0.850038</td>\n",
              "    </tr>\n",
              "    <tr>\n",
              "      <th>3</th>\n",
              "      <td>Albania</td>\n",
              "      <td>ALB</td>\n",
              "      <td>0.331767</td>\n",
              "      <td>0.364983</td>\n",
              "      <td>0.357084</td>\n",
              "      <td>0.369191</td>\n",
              "      <td>0.366255</td>\n",
              "      <td>0.374166</td>\n",
              "      <td>0.378431</td>\n",
              "      <td>0.388036</td>\n",
              "      <td>0.398293</td>\n",
              "      <td>0.400079</td>\n",
              "      <td>0.439119</td>\n",
              "      <td>0.453887</td>\n",
              "      <td>0.468280</td>\n",
              "      <td>0.471287</td>\n",
              "      <td>0.488498</td>\n",
              "      <td>0.515490</td>\n",
              "      <td>0.529580</td>\n",
              "      <td>0.535182</td>\n",
              "      <td>0.558574</td>\n",
              "      <td>0.561525</td>\n",
              "      <td>0.574867</td>\n",
              "      <td>0.544254</td>\n",
              "      <td>0.551350</td>\n",
              "      <td>0.560064</td>\n",
              "      <td>0.088375</td>\n",
              "      <td>0.087994</td>\n",
              "      <td>0.090019</td>\n",
              "      <td>0.083917</td>\n",
              "      <td>0.084046</td>\n",
              "      <td>0.087582</td>\n",
              "      <td>0.072108</td>\n",
              "      <td>0.036429</td>\n",
              "      <td>0.022624</td>\n",
              "      <td>0.038458</td>\n",
              "      <td>0.057241</td>\n",
              "      <td>0.066524</td>\n",
              "      <td>0.081784</td>\n",
              "      <td>0.053946</td>\n",
              "      <td>0.061550</td>\n",
              "      <td>0.082219</td>\n",
              "      <td>0.081004</td>\n",
              "      <td>0.090737</td>\n",
              "      <td>0.099742</td>\n",
              "      <td>0.114981</td>\n",
              "      <td>0.122795</td>\n",
              "      <td>0.114461</td>\n",
              "      <td>0.106398</td>\n",
              "      <td>0.102764</td>\n",
              "      <td>0.101542</td>\n",
              "      <td>0.098796</td>\n",
              "      <td>0.080596</td>\n",
              "      <td>0.072226</td>\n",
              "      <td>0.064438</td>\n",
              "      <td>0.062190</td>\n",
              "      <td>0.062430</td>\n",
              "      <td>0.057241</td>\n",
              "      <td>0.059926</td>\n",
              "      <td>0.059420</td>\n",
              "      <td>0.064236</td>\n",
              "      <td>0.063750</td>\n",
              "      <td>0.063816</td>\n",
              "    </tr>\n",
              "    <tr>\n",
              "      <th>4</th>\n",
              "      <td>Andorra</td>\n",
              "      <td>AND</td>\n",
              "      <td>0.000674</td>\n",
              "      <td>0.000708</td>\n",
              "      <td>0.000732</td>\n",
              "      <td>0.000770</td>\n",
              "      <td>0.000817</td>\n",
              "      <td>0.000893</td>\n",
              "      <td>0.000930</td>\n",
              "      <td>0.000934</td>\n",
              "      <td>0.000937</td>\n",
              "      <td>0.000972</td>\n",
              "      <td>0.003297</td>\n",
              "      <td>0.003370</td>\n",
              "      <td>0.003685</td>\n",
              "      <td>0.004044</td>\n",
              "      <td>0.004414</td>\n",
              "      <td>0.004641</td>\n",
              "      <td>0.004399</td>\n",
              "      <td>0.004348</td>\n",
              "      <td>0.004410</td>\n",
              "      <td>0.005090</td>\n",
              "      <td>0.004888</td>\n",
              "      <td>0.004208</td>\n",
              "      <td>0.004111</td>\n",
              "      <td>0.003484</td>\n",
              "      <td>0.003371</td>\n",
              "      <td>0.003378</td>\n",
              "      <td>0.003872</td>\n",
              "      <td>0.004243</td>\n",
              "      <td>0.004453</td>\n",
              "      <td>0.004701</td>\n",
              "      <td>0.005477</td>\n",
              "      <td>0.005581</td>\n",
              "      <td>0.005682</td>\n",
              "      <td>0.004698</td>\n",
              "      <td>0.004429</td>\n",
              "      <td>0.004611</td>\n",
              "      <td>0.004748</td>\n",
              "      <td>0.004660</td>\n",
              "      <td>0.004760</td>\n",
              "      <td>0.004638</td>\n",
              "      <td>0.005243</td>\n",
              "      <td>0.005725</td>\n",
              "      <td>0.006234</td>\n",
              "      <td>0.007473</td>\n",
              "      <td>0.008227</td>\n",
              "      <td>0.008492</td>\n",
              "      <td>0.008793</td>\n",
              "      <td>0.009191</td>\n",
              "      <td>0.008935</td>\n",
              "      <td>0.008567</td>\n",
              "      <td>0.007679</td>\n",
              "      <td>0.007486</td>\n",
              "      <td>0.006572</td>\n",
              "      <td>0.006504</td>\n",
              "      <td>0.006521</td>\n",
              "      <td>0.005887</td>\n",
              "      <td>0.005986</td>\n",
              "      <td>0.005933</td>\n",
              "      <td>0.005987</td>\n",
              "      <td>0.005824</td>\n",
              "      <td>0.002083</td>\n",
              "    </tr>\n",
              "    <tr>\n",
              "      <th>...</th>\n",
              "      <td>...</td>\n",
              "      <td>...</td>\n",
              "      <td>...</td>\n",
              "      <td>...</td>\n",
              "      <td>...</td>\n",
              "      <td>...</td>\n",
              "      <td>...</td>\n",
              "      <td>...</td>\n",
              "      <td>...</td>\n",
              "      <td>...</td>\n",
              "      <td>...</td>\n",
              "      <td>...</td>\n",
              "      <td>...</td>\n",
              "      <td>...</td>\n",
              "      <td>...</td>\n",
              "      <td>...</td>\n",
              "      <td>...</td>\n",
              "      <td>...</td>\n",
              "      <td>...</td>\n",
              "      <td>...</td>\n",
              "      <td>...</td>\n",
              "      <td>...</td>\n",
              "      <td>...</td>\n",
              "      <td>...</td>\n",
              "      <td>...</td>\n",
              "      <td>...</td>\n",
              "      <td>...</td>\n",
              "      <td>...</td>\n",
              "      <td>...</td>\n",
              "      <td>...</td>\n",
              "      <td>...</td>\n",
              "      <td>...</td>\n",
              "      <td>...</td>\n",
              "      <td>...</td>\n",
              "      <td>...</td>\n",
              "      <td>...</td>\n",
              "      <td>...</td>\n",
              "      <td>...</td>\n",
              "      <td>...</td>\n",
              "      <td>...</td>\n",
              "      <td>...</td>\n",
              "      <td>...</td>\n",
              "      <td>...</td>\n",
              "      <td>...</td>\n",
              "      <td>...</td>\n",
              "      <td>...</td>\n",
              "      <td>...</td>\n",
              "      <td>...</td>\n",
              "      <td>...</td>\n",
              "      <td>...</td>\n",
              "      <td>...</td>\n",
              "      <td>...</td>\n",
              "      <td>...</td>\n",
              "      <td>...</td>\n",
              "      <td>...</td>\n",
              "      <td>...</td>\n",
              "      <td>...</td>\n",
              "      <td>...</td>\n",
              "      <td>...</td>\n",
              "      <td>...</td>\n",
              "      <td>...</td>\n",
              "      <td>...</td>\n",
              "      <td>...</td>\n",
              "    </tr>\n",
              "    <tr>\n",
              "      <th>198</th>\n",
              "      <td>Kosovo</td>\n",
              "      <td>XKX</td>\n",
              "      <td>0.195290</td>\n",
              "      <td>0.212419</td>\n",
              "      <td>0.207408</td>\n",
              "      <td>0.214064</td>\n",
              "      <td>0.211984</td>\n",
              "      <td>0.216298</td>\n",
              "      <td>0.218610</td>\n",
              "      <td>0.224065</td>\n",
              "      <td>0.229057</td>\n",
              "      <td>0.228897</td>\n",
              "      <td>0.250663</td>\n",
              "      <td>0.258700</td>\n",
              "      <td>0.266798</td>\n",
              "      <td>0.268398</td>\n",
              "      <td>0.278325</td>\n",
              "      <td>0.293453</td>\n",
              "      <td>0.301568</td>\n",
              "      <td>0.304474</td>\n",
              "      <td>0.317784</td>\n",
              "      <td>0.319820</td>\n",
              "      <td>0.327236</td>\n",
              "      <td>0.309855</td>\n",
              "      <td>0.313272</td>\n",
              "      <td>0.317847</td>\n",
              "      <td>0.314909</td>\n",
              "      <td>0.310538</td>\n",
              "      <td>0.338821</td>\n",
              "      <td>0.371306</td>\n",
              "      <td>0.415154</td>\n",
              "      <td>0.412025</td>\n",
              "      <td>0.419968</td>\n",
              "      <td>0.414198</td>\n",
              "      <td>0.458241</td>\n",
              "      <td>0.417123</td>\n",
              "      <td>0.413594</td>\n",
              "      <td>0.433745</td>\n",
              "      <td>0.417573</td>\n",
              "      <td>0.388059</td>\n",
              "      <td>0.374254</td>\n",
              "      <td>0.369695</td>\n",
              "      <td>0.043040</td>\n",
              "      <td>0.058654</td>\n",
              "      <td>0.055198</td>\n",
              "      <td>0.057177</td>\n",
              "      <td>0.060790</td>\n",
              "      <td>0.052072</td>\n",
              "      <td>0.046008</td>\n",
              "      <td>0.044811</td>\n",
              "      <td>0.044833</td>\n",
              "      <td>0.046377</td>\n",
              "      <td>0.039436</td>\n",
              "      <td>0.037549</td>\n",
              "      <td>0.033997</td>\n",
              "      <td>0.034437</td>\n",
              "      <td>0.034909</td>\n",
              "      <td>0.032388</td>\n",
              "      <td>0.033947</td>\n",
              "      <td>0.033068</td>\n",
              "      <td>0.033685</td>\n",
              "      <td>0.033167</td>\n",
              "      <td>0.032820</td>\n",
              "    </tr>\n",
              "    <tr>\n",
              "      <th>199</th>\n",
              "      <td>Yemen, Rep.</td>\n",
              "      <td>YEM</td>\n",
              "      <td>8.154086</td>\n",
              "      <td>8.210038</td>\n",
              "      <td>8.037163</td>\n",
              "      <td>7.598278</td>\n",
              "      <td>8.327399</td>\n",
              "      <td>8.208726</td>\n",
              "      <td>8.249659</td>\n",
              "      <td>9.010130</td>\n",
              "      <td>8.952190</td>\n",
              "      <td>8.794581</td>\n",
              "      <td>9.253564</td>\n",
              "      <td>9.227767</td>\n",
              "      <td>9.315882</td>\n",
              "      <td>9.395027</td>\n",
              "      <td>9.454703</td>\n",
              "      <td>9.500335</td>\n",
              "      <td>9.637536</td>\n",
              "      <td>9.654530</td>\n",
              "      <td>9.836358</td>\n",
              "      <td>10.191970</td>\n",
              "      <td>10.496903</td>\n",
              "      <td>18.717536</td>\n",
              "      <td>14.693435</td>\n",
              "      <td>15.058286</td>\n",
              "      <td>15.579339</td>\n",
              "      <td>15.831040</td>\n",
              "      <td>18.256418</td>\n",
              "      <td>19.162521</td>\n",
              "      <td>20.273034</td>\n",
              "      <td>21.049699</td>\n",
              "      <td>2.066635</td>\n",
              "      <td>2.357956</td>\n",
              "      <td>2.669334</td>\n",
              "      <td>2.188352</td>\n",
              "      <td>1.682663</td>\n",
              "      <td>1.473621</td>\n",
              "      <td>1.875775</td>\n",
              "      <td>2.158140</td>\n",
              "      <td>1.937249</td>\n",
              "      <td>2.217868</td>\n",
              "      <td>2.788103</td>\n",
              "      <td>2.848221</td>\n",
              "      <td>5.551739</td>\n",
              "      <td>5.353024</td>\n",
              "      <td>5.404910</td>\n",
              "      <td>5.687621</td>\n",
              "      <td>5.608576</td>\n",
              "      <td>5.292803</td>\n",
              "      <td>3.456955</td>\n",
              "      <td>3.396146</td>\n",
              "      <td>3.843118</td>\n",
              "      <td>3.727779</td>\n",
              "      <td>4.022935</td>\n",
              "      <td>5.857687</td>\n",
              "      <td>6.045022</td>\n",
              "      <td>6.322048</td>\n",
              "      <td>4.801809</td>\n",
              "      <td>4.023793</td>\n",
              "      <td>3.389962</td>\n",
              "      <td>42.151152</td>\n",
              "      <td>38.631770</td>\n",
              "    </tr>\n",
              "    <tr>\n",
              "      <th>200</th>\n",
              "      <td>South Africa</td>\n",
              "      <td>ZAF</td>\n",
              "      <td>3.081220</td>\n",
              "      <td>3.337674</td>\n",
              "      <td>3.241913</td>\n",
              "      <td>3.399296</td>\n",
              "      <td>3.310952</td>\n",
              "      <td>3.201626</td>\n",
              "      <td>3.176331</td>\n",
              "      <td>3.480886</td>\n",
              "      <td>3.648149</td>\n",
              "      <td>3.705772</td>\n",
              "      <td>3.536431</td>\n",
              "      <td>3.531624</td>\n",
              "      <td>3.218551</td>\n",
              "      <td>3.454666</td>\n",
              "      <td>3.430776</td>\n",
              "      <td>3.109873</td>\n",
              "      <td>2.778595</td>\n",
              "      <td>2.798741</td>\n",
              "      <td>2.903724</td>\n",
              "      <td>2.960415</td>\n",
              "      <td>3.738342</td>\n",
              "      <td>3.760090</td>\n",
              "      <td>3.596571</td>\n",
              "      <td>4.202682</td>\n",
              "      <td>3.680161</td>\n",
              "      <td>2.740536</td>\n",
              "      <td>2.898081</td>\n",
              "      <td>3.572111</td>\n",
              "      <td>3.899699</td>\n",
              "      <td>3.849516</td>\n",
              "      <td>4.107503</td>\n",
              "      <td>4.106335</td>\n",
              "      <td>4.667407</td>\n",
              "      <td>4.357682</td>\n",
              "      <td>4.252932</td>\n",
              "      <td>4.322157</td>\n",
              "      <td>3.772921</td>\n",
              "      <td>3.644585</td>\n",
              "      <td>3.330786</td>\n",
              "      <td>3.497300</td>\n",
              "      <td>3.173788</td>\n",
              "      <td>2.811214</td>\n",
              "      <td>2.649095</td>\n",
              "      <td>3.591048</td>\n",
              "      <td>3.906899</td>\n",
              "      <td>3.664278</td>\n",
              "      <td>3.248829</td>\n",
              "      <td>2.881714</td>\n",
              "      <td>2.260560</td>\n",
              "      <td>2.427499</td>\n",
              "      <td>2.536409</td>\n",
              "      <td>2.333150</td>\n",
              "      <td>2.072986</td>\n",
              "      <td>1.785591</td>\n",
              "      <td>1.656094</td>\n",
              "      <td>1.596666</td>\n",
              "      <td>1.497287</td>\n",
              "      <td>1.595308</td>\n",
              "      <td>1.561853</td>\n",
              "      <td>1.465574</td>\n",
              "      <td>1.301888</td>\n",
              "    </tr>\n",
              "    <tr>\n",
              "      <th>201</th>\n",
              "      <td>Zambia</td>\n",
              "      <td>ZMB</td>\n",
              "      <td>0.350945</td>\n",
              "      <td>0.323739</td>\n",
              "      <td>0.307048</td>\n",
              "      <td>0.290300</td>\n",
              "      <td>0.302764</td>\n",
              "      <td>0.371414</td>\n",
              "      <td>0.420083</td>\n",
              "      <td>0.572351</td>\n",
              "      <td>0.631660</td>\n",
              "      <td>0.697487</td>\n",
              "      <td>0.548422</td>\n",
              "      <td>0.461989</td>\n",
              "      <td>0.459038</td>\n",
              "      <td>0.432803</td>\n",
              "      <td>0.451590</td>\n",
              "      <td>0.318434</td>\n",
              "      <td>0.302256</td>\n",
              "      <td>0.242662</td>\n",
              "      <td>0.242954</td>\n",
              "      <td>0.241951</td>\n",
              "      <td>0.240951</td>\n",
              "      <td>0.229226</td>\n",
              "      <td>0.236990</td>\n",
              "      <td>0.195179</td>\n",
              "      <td>0.168516</td>\n",
              "      <td>0.156602</td>\n",
              "      <td>0.102893</td>\n",
              "      <td>0.151440</td>\n",
              "      <td>0.257499</td>\n",
              "      <td>0.273439</td>\n",
              "      <td>0.229206</td>\n",
              "      <td>0.170118</td>\n",
              "      <td>0.175475</td>\n",
              "      <td>0.232314</td>\n",
              "      <td>0.259419</td>\n",
              "      <td>0.237650</td>\n",
              "      <td>0.204530</td>\n",
              "      <td>0.240650</td>\n",
              "      <td>0.210840</td>\n",
              "      <td>0.237702</td>\n",
              "      <td>0.240191</td>\n",
              "      <td>0.267308</td>\n",
              "      <td>0.255543</td>\n",
              "      <td>0.259995</td>\n",
              "      <td>0.284730</td>\n",
              "      <td>0.327953</td>\n",
              "      <td>0.422919</td>\n",
              "      <td>0.378866</td>\n",
              "      <td>0.426827</td>\n",
              "      <td>0.359359</td>\n",
              "      <td>0.390682</td>\n",
              "      <td>0.397188</td>\n",
              "      <td>0.411626</td>\n",
              "      <td>0.444489</td>\n",
              "      <td>0.413643</td>\n",
              "      <td>0.329996</td>\n",
              "      <td>0.311744</td>\n",
              "      <td>0.357283</td>\n",
              "      <td>0.358630</td>\n",
              "      <td>0.301540</td>\n",
              "      <td>0.263579</td>\n",
              "    </tr>\n",
              "    <tr>\n",
              "      <th>202</th>\n",
              "      <td>Zimbabwe</td>\n",
              "      <td>ZWE</td>\n",
              "      <td>0.518292</td>\n",
              "      <td>0.509887</td>\n",
              "      <td>0.495074</td>\n",
              "      <td>0.468346</td>\n",
              "      <td>0.438995</td>\n",
              "      <td>0.449816</td>\n",
              "      <td>0.425886</td>\n",
              "      <td>0.584485</td>\n",
              "      <td>0.581997</td>\n",
              "      <td>0.620236</td>\n",
              "      <td>0.566125</td>\n",
              "      <td>0.596647</td>\n",
              "      <td>0.643308</td>\n",
              "      <td>0.631326</td>\n",
              "      <td>0.576041</td>\n",
              "      <td>0.531558</td>\n",
              "      <td>0.475205</td>\n",
              "      <td>0.426528</td>\n",
              "      <td>0.375790</td>\n",
              "      <td>0.376693</td>\n",
              "      <td>0.420233</td>\n",
              "      <td>0.474199</td>\n",
              "      <td>0.506617</td>\n",
              "      <td>0.471155</td>\n",
              "      <td>0.390750</td>\n",
              "      <td>0.386982</td>\n",
              "      <td>0.384935</td>\n",
              "      <td>0.449753</td>\n",
              "      <td>0.541871</td>\n",
              "      <td>0.566644</td>\n",
              "      <td>0.612836</td>\n",
              "      <td>0.435076</td>\n",
              "      <td>0.372327</td>\n",
              "      <td>0.465859</td>\n",
              "      <td>0.488856</td>\n",
              "      <td>0.443909</td>\n",
              "      <td>0.486314</td>\n",
              "      <td>0.476995</td>\n",
              "      <td>0.381546</td>\n",
              "      <td>0.478852</td>\n",
              "      <td>0.446267</td>\n",
              "      <td>0.442461</td>\n",
              "      <td>0.386443</td>\n",
              "      <td>0.303794</td>\n",
              "      <td>0.265714</td>\n",
              "      <td>0.226533</td>\n",
              "      <td>0.180478</td>\n",
              "      <td>0.142630</td>\n",
              "      <td>0.105229</td>\n",
              "      <td>0.226605</td>\n",
              "      <td>0.232140</td>\n",
              "      <td>0.238757</td>\n",
              "      <td>0.276238</td>\n",
              "      <td>0.302660</td>\n",
              "      <td>0.297122</td>\n",
              "      <td>0.309994</td>\n",
              "      <td>0.305649</td>\n",
              "      <td>0.262579</td>\n",
              "      <td>0.266109</td>\n",
              "      <td>0.219052</td>\n",
              "      <td>0.228769</td>\n",
              "    </tr>\n",
              "  </tbody>\n",
              "</table>\n",
              "<p>203 rows × 63 columns</p>\n",
              "</div>"
            ],
            "text/plain": [
              "     Country Name Country Code      1960  ...      2018       2019       2020\n",
              "0           Aruba          ABW  0.002724  ...  0.005957   0.003271   0.002878\n",
              "1     Afghanistan          AFG  1.627169  ...  2.649163   1.672768   1.949216\n",
              "2          Angola          AGO  1.361298  ...  1.381454   1.156774   0.850038\n",
              "3         Albania          ALB  0.331767  ...  0.064236   0.063750   0.063816\n",
              "4         Andorra          AND  0.000674  ...  0.005987   0.005824   0.002083\n",
              "..            ...          ...       ...  ...       ...        ...        ...\n",
              "198        Kosovo          XKX  0.195290  ...  0.033685   0.033167   0.032820\n",
              "199   Yemen, Rep.          YEM  8.154086  ...  3.389962  42.151152  38.631770\n",
              "200  South Africa          ZAF  3.081220  ...  1.561853   1.465574   1.301888\n",
              "201        Zambia          ZMB  0.350945  ...  0.358630   0.301540   0.263579\n",
              "202      Zimbabwe          ZWE  0.518292  ...  0.266109   0.219052   0.228769\n",
              "\n",
              "[203 rows x 63 columns]"
            ]
          },
          "metadata": {},
          "execution_count": 65
        }
      ]
    },
    {
      "cell_type": "markdown",
      "metadata": {
        "id": "4fmwJ3ZZxjyb"
      },
      "source": [
        "# GDP breakdown by Region"
      ]
    },
    {
      "cell_type": "code",
      "metadata": {
        "colab": {
          "base_uri": "https://localhost:8080/",
          "height": 264
        },
        "id": "KwL85-VCvk4I",
        "outputId": "c5d5115d-1f3d-4ed2-8fa2-efa322421508"
      },
      "source": [
        "gdp_by_region = gdp_merged.groupby(by = 'Region').agg('sum').sum(axis = 1)\n",
        "plt.pie(gdp_by_region, labels = gdp_by_region.index.values.tolist())\n",
        "plt.title('GDP breakdown by Region')\n",
        "plt.show()"
      ],
      "execution_count": 66,
      "outputs": [
        {
          "output_type": "display_data",
          "data": {
            "image/png": "[encoded data removed]",
            "text/plain": [
              "<Figure size 432x288 with 1 Axes>"
            ]
          },
          "metadata": {}
        }
      ]
    },
    {
      "cell_type": "markdown",
      "metadata": {
        "id": "eahhVr_rxv1N"
      },
      "source": [
        "# Top 10 countries by GDP for each region"
      ]
    },
    {
      "cell_type": "code",
      "metadata": {
        "colab": {
          "base_uri": "https://localhost:8080/",
          "height": 204
        },
        "id": "zO82IabqzLk1",
        "outputId": "fae1e223-c889-4a27-b3f6-83e431e5c42b"
      },
      "source": [
        "gdp_2020_region = gdp_merged[['Country Name', '2020', 'Region']]\n",
        "gdp_2020_region.head()"
      ],
      "execution_count": 67,
      "outputs": [
        {
          "output_type": "execute_result",
          "data": {
            "text/html": [
              "<div>\n",
              "<style scoped>\n",
              "    .dataframe tbody tr th:only-of-type {\n",
              "        vertical-align: middle;\n",
              "    }\n",
              "\n",
              "    .dataframe tbody tr th {\n",
              "        vertical-align: top;\n",
              "    }\n",
              "\n",
              "    .dataframe thead th {\n",
              "        text-align: right;\n",
              "    }\n",
              "</style>\n",
              "<table border=\"1\" class=\"dataframe\">\n",
              "  <thead>\n",
              "    <tr style=\"text-align: right;\">\n",
              "      <th></th>\n",
              "      <th>Country Name</th>\n",
              "      <th>2020</th>\n",
              "      <th>Region</th>\n",
              "    </tr>\n",
              "  </thead>\n",
              "  <tbody>\n",
              "    <tr>\n",
              "      <th>0</th>\n",
              "      <td>Aruba</td>\n",
              "      <td>1.405217e+09</td>\n",
              "      <td>Latin America &amp; Caribbean</td>\n",
              "    </tr>\n",
              "    <tr>\n",
              "      <th>2</th>\n",
              "      <td>Afghanistan</td>\n",
              "      <td>1.980707e+10</td>\n",
              "      <td>South Asia</td>\n",
              "    </tr>\n",
              "    <tr>\n",
              "      <th>4</th>\n",
              "      <td>Angola</td>\n",
              "      <td>6.230691e+10</td>\n",
              "      <td>Sub-Saharan Africa</td>\n",
              "    </tr>\n",
              "    <tr>\n",
              "      <th>5</th>\n",
              "      <td>Albania</td>\n",
              "      <td>1.479962e+10</td>\n",
              "      <td>Europe &amp; Central Asia</td>\n",
              "    </tr>\n",
              "    <tr>\n",
              "      <th>6</th>\n",
              "      <td>Andorra</td>\n",
              "      <td>1.016935e+09</td>\n",
              "      <td>Europe &amp; Central Asia</td>\n",
              "    </tr>\n",
              "  </tbody>\n",
              "</table>\n",
              "</div>"
            ],
            "text/plain": [
              "  Country Name          2020                     Region\n",
              "0        Aruba  1.405217e+09  Latin America & Caribbean\n",
              "2  Afghanistan  1.980707e+10                 South Asia\n",
              "4       Angola  6.230691e+10         Sub-Saharan Africa\n",
              "5      Albania  1.479962e+10      Europe & Central Asia\n",
              "6      Andorra  1.016935e+09      Europe & Central Asia"
            ]
          },
          "metadata": {},
          "execution_count": 67
        }
      ]
    },
    {
      "cell_type": "code",
      "metadata": {
        "id": "bVv4MnWbGInR"
      },
      "source": [
        "#Ranking countries by gdp grouped by region\n",
        "rank = gdp_2020_region.groupby('Region')['2020'].rank(ascending=False, method = 'min')\n",
        "gdp_2020_region = pd.concat([gdp_2020_region, rank], axis = 1)\n",
        "gdp_2020_region.columns = ['Country Name', '2020', 'Region', 'rank']"
      ],
      "execution_count": 68,
      "outputs": []
    },
    {
      "cell_type": "code",
      "metadata": {
        "colab": {
          "base_uri": "https://localhost:8080/"
        },
        "id": "JajTLhSjJgE4",
        "outputId": "5e5fb061-8cd8-439d-cc38-7a85a746a0d8"
      },
      "source": [
        "#cleaning\n",
        "index_to_delete = gdp_2020_region[gdp_2020_region['rank'] > 10.0].index.values\n",
        "top10_gdp_2020_region = gdp_2020_region.drop(index = index_to_delete)\n",
        "index_to_delete = top10_gdp_2020_region[top10_gdp_2020_region['2020'].isnull()].index.values\n",
        "top10_gdp_2020_region = top10_gdp_2020_region.drop(index = index_to_delete)\n",
        "top10_gdp_2020_region = top10_gdp_2020_region.drop(columns = 'rank')\n",
        "top10_gdp_2020_region['Region'].unique()"
      ],
      "execution_count": 69,
      "outputs": [
        {
          "output_type": "execute_result",
          "data": {
            "text/plain": [
              "array(['South Asia', 'Sub-Saharan Africa', 'Middle East & North Africa',\n",
              "       'Latin America & Caribbean', 'East Asia & Pacific',\n",
              "       'North America', 'Europe & Central Asia'], dtype=object)"
            ]
          },
          "metadata": {},
          "execution_count": 69
        }
      ]
    },
    {
      "cell_type": "code",
      "metadata": {
        "colab": {
          "base_uri": "https://localhost:8080/",
          "height": 433
        },
        "id": "i2l9W2XitfV1",
        "outputId": "7dee08c4-66b5-48b7-d355-674abb4fc37e"
      },
      "source": [
        "gdp_subsaharanafrica = top10_gdp_2020_region[top10_gdp_2020_region['Region'] == 'Sub-Saharan Africa']\n",
        "pivot_gdp_subsaharanafrica = gdp_subsaharanafrica.pivot(index='Region', columns='Country Name', values='2020')\n",
        "pivot_gdp_subsaharanafrica.plot(kind='bar', stacked=True, figsize = (6, 7))\n",
        "plt.ylabel('GDP in 10^12 units')\n",
        "plt.xlabel('')\n",
        "plt.title('Top 10 countries by GDP in 2020 for Sub-Saharan Africa')\n",
        "plt.legend(bbox_to_anchor = (1,1))\n",
        "plt.xticks([])\n",
        "plt.show()"
      ],
      "execution_count": 70,
      "outputs": [
        {
          "output_type": "display_data",
          "data": {
            "image/png": "[encoded data removed]",
            "text/plain": [
              "<Figure size 432x504 with 1 Axes>"
            ]
          },
          "metadata": {
            "needs_background": "light"
          }
        }
      ]
    },
    {
      "cell_type": "code",
      "metadata": {
        "colab": {
          "base_uri": "https://localhost:8080/",
          "height": 433
        },
        "id": "_goL17M8yV8H",
        "outputId": "3d7546e7-90f7-4cc5-d5b1-b5c6e76657ba"
      },
      "source": [
        "gdp_southasia = top10_gdp_2020_region[top10_gdp_2020_region['Region'] == 'South Asia']\n",
        "pivot_gdp_southasia = gdp_southasia.pivot(index='Region', columns='Country Name', values='2020')\n",
        "pivot_gdp_southasia.plot(kind='bar', stacked=True, figsize = (6, 7))\n",
        "plt.ylabel('GDP in 10^12 units')\n",
        "plt.xlabel('')\n",
        "plt.title('Top 10 countries by GDP in 2020 for South Asia')\n",
        "plt.legend(bbox_to_anchor = (1,1))\n",
        "plt.xticks([])\n",
        "plt.show()"
      ],
      "execution_count": 71,
      "outputs": [
        {
          "output_type": "display_data",
          "data": {
            "image/png": "[encoded data removed]",
            "text/plain": [
              "<Figure size 432x504 with 1 Axes>"
            ]
          },
          "metadata": {
            "needs_background": "light"
          }
        }
      ]
    },
    {
      "cell_type": "code",
      "metadata": {
        "colab": {
          "base_uri": "https://localhost:8080/",
          "height": 433
        },
        "id": "AF1TyxoD4Pgm",
        "outputId": "0a243976-c48b-4a11-ce82-ccaafe6f63f4"
      },
      "source": [
        "gdp_middleeastnorthafrica = top10_gdp_2020_region[top10_gdp_2020_region['Region'] == 'Middle East & North Africa']\n",
        "pivot_gdp_middleeastnorthafrica = gdp_middleeastnorthafrica.pivot(index='Region', columns='Country Name', values='2020')\n",
        "pivot_gdp_middleeastnorthafrica.plot(kind='bar', stacked=True, figsize = (6, 7))\n",
        "plt.ylabel('GDP in 10^12 units')\n",
        "plt.xlabel('')\n",
        "plt.title('Top 10 countries by GDP in 2020 for Middle East & North Africa')\n",
        "plt.legend(bbox_to_anchor = (1,1))\n",
        "plt.xticks([])\n",
        "plt.show()"
      ],
      "execution_count": 72,
      "outputs": [
        {
          "output_type": "display_data",
          "data": {
            "image/png": "[encoded data removed]",
            "text/plain": [
              "<Figure size 432x504 with 1 Axes>"
            ]
          },
          "metadata": {
            "needs_background": "light"
          }
        }
      ]
    },
    {
      "cell_type": "code",
      "metadata": {
        "colab": {
          "base_uri": "https://localhost:8080/",
          "height": 433
        },
        "id": "Ozpv7tNH4MKE",
        "outputId": "92ba8c18-a757-45f3-e802-7d64950ca528"
      },
      "source": [
        "gdp_latinamericacaribbean = top10_gdp_2020_region[top10_gdp_2020_region['Region'] == 'Latin America & Caribbean']\n",
        "pivot_gdp_latinamericacaribbean = gdp_latinamericacaribbean.pivot(index='Region', columns='Country Name', values='2020')\n",
        "pivot_gdp_latinamericacaribbean.plot(kind='bar', stacked=True, figsize = (6, 7))\n",
        "plt.ylabel('GDP in 10^12 units')\n",
        "plt.xlabel('')\n",
        "plt.title('Top 10 countries by GDP in 2020 for Latin America & Caribbean')\n",
        "plt.legend(bbox_to_anchor = (1,1))\n",
        "plt.xticks([])\n",
        "plt.show()"
      ],
      "execution_count": 73,
      "outputs": [
        {
          "output_type": "display_data",
          "data": {
            "image/png": "[encoded data removed]",
            "text/plain": [
              "<Figure size 432x504 with 1 Axes>"
            ]
          },
          "metadata": {
            "needs_background": "light"
          }
        }
      ]
    },
    {
      "cell_type": "code",
      "metadata": {
        "colab": {
          "base_uri": "https://localhost:8080/",
          "height": 433
        },
        "id": "KE7zLg0X4Mi0",
        "outputId": "ffe8108e-d04e-4c26-c4b9-4da162176b5c"
      },
      "source": [
        "gdp_eastasiapacific = top10_gdp_2020_region[top10_gdp_2020_region['Region'] == 'East Asia & Pacific']\n",
        "pivot_gdp_eastasiapacific = gdp_eastasiapacific.pivot(index='Region', columns='Country Name', values='2020')\n",
        "pivot_gdp_eastasiapacific.plot(kind='bar', stacked=True, figsize = (6, 7))\n",
        "plt.ylabel('GDP in 10^13 units')\n",
        "plt.xlabel('')\n",
        "plt.title('Top 10 countries by GDP in 2020 for East Asia & Pacific')\n",
        "plt.legend(bbox_to_anchor = (1,1))\n",
        "plt.xticks([])\n",
        "plt.show()"
      ],
      "execution_count": 74,
      "outputs": [
        {
          "output_type": "display_data",
          "data": {
            "image/png": "[encoded data removed]",
            "text/plain": [
              "<Figure size 432x504 with 1 Axes>"
            ]
          },
          "metadata": {
            "needs_background": "light"
          }
        }
      ]
    },
    {
      "cell_type": "code",
      "metadata": {
        "colab": {
          "base_uri": "https://localhost:8080/",
          "height": 433
        },
        "id": "OMZXT__I4NL4",
        "outputId": "5d8cc401-bd36-4712-e1e3-a59922c45286"
      },
      "source": [
        "gdp_northamerica = top10_gdp_2020_region[top10_gdp_2020_region['Region'] == 'North America']\n",
        "pivot_gdp_northamerica = gdp_northamerica.pivot(index='Region', columns='Country Name', values='2020')\n",
        "pivot_gdp_northamerica.plot(kind='bar', stacked=True, figsize = (6, 7))\n",
        "plt.ylabel('GDP in 10^13 units')\n",
        "plt.xlabel('')\n",
        "plt.title('Top 10 countries by GDP in 2020 for North America')\n",
        "plt.legend(bbox_to_anchor = (1,1))\n",
        "plt.xticks([])\n",
        "plt.show()"
      ],
      "execution_count": 75,
      "outputs": [
        {
          "output_type": "display_data",
          "data": {
            "image/png": "[encoded data removed]",
            "text/plain": [
              "<Figure size 432x504 with 1 Axes>"
            ]
          },
          "metadata": {
            "needs_background": "light"
          }
        }
      ]
    },
    {
      "cell_type": "code",
      "metadata": {
        "colab": {
          "base_uri": "https://localhost:8080/",
          "height": 433
        },
        "id": "ffpPwaVk4M38",
        "outputId": "bbbd7adb-c9c3-4cf1-9f82-96e6f4255e28"
      },
      "source": [
        "gdp_europecentralasia = top10_gdp_2020_region[top10_gdp_2020_region['Region'] == 'Europe & Central Asia']\n",
        "pivot_gdp_europecentralasia = gdp_europecentralasia.pivot(index='Region', columns='Country Name', values='2020')\n",
        "pivot_gdp_europecentralasia.plot(kind='bar', stacked=True, figsize = (6, 7))\n",
        "plt.ylabel('GDP in 10^13 units')\n",
        "plt.xlabel('')\n",
        "plt.title('Top 10 countries by GDP in 2020 for Europe & Central Asia')\n",
        "plt.legend(bbox_to_anchor = (1,1))\n",
        "plt.xticks([])\n",
        "plt.show()"
      ],
      "execution_count": 76,
      "outputs": [
        {
          "output_type": "display_data",
          "data": {
            "image/png": "[encoded data removed]",
            "text/plain": [
              "<Figure size 432x504 with 1 Axes>"
            ]
          },
          "metadata": {
            "needs_background": "light"
          }
        }
      ]
    },
    {
      "cell_type": "markdown",
      "metadata": {
        "id": "vRIat2tDxv4f"
      },
      "source": [
        "#CAGR"
      ]
    },
    {
      "cell_type": "markdown",
      "metadata": {
        "id": "OCMy3b8GIRTv"
      },
      "source": [
        "![Capture.PNG](data:image/png;base64,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)"
      ]
    },
    {
      "cell_type": "code",
      "metadata": {
        "id": "V8O_9kGF3mCP"
      },
      "source": [
        "gdp_cagr3_intrm = pd.DataFrame()\n",
        "for bgn,fnl in zip(list(range(1960, 2018)),list(range(1963, 2021))):\n",
        "  gdp_cagr3_intrm[fnl] = gdp_numeric[str(fnl)] / gdp_numeric[str(bgn)]\n",
        "  gdp_cagr3_intrm[fnl] = gdp_cagr3_intrm[fnl].apply(lambda x : np.power(x, 1/3) -1)\n",
        "gdp_cagr_3year = pd.concat([gdp_merged['Country Name'], gdp_cagr3_intrm], axis = 1)\n",
        "gdp_cagr_3year.to_csv('GDP_3year_CAGR.csv')"
      ],
      "execution_count": 77,
      "outputs": []
    },
    {
      "cell_type": "code",
      "metadata": {
        "id": "gDEJDvCSWIi3"
      },
      "source": [
        "gdp_cagr5_intrm = pd.DataFrame()\n",
        "for bgn,fnl in zip(list(range(1960, 2016)),list(range(1965, 2021))):\n",
        "  gdp_cagr5_intrm[fnl] = gdp_per_capita[str(fnl)] / gdp_per_capita[str(bgn)]\n",
        "  gdp_cagr5_intrm[fnl] = gdp_cagr5_intrm[fnl].apply(lambda x : np.power(x, 1/5) -1)\n",
        "gdp_cagr_5year = pd.concat([gdp_merged['Country Name'], gdp_cagr5_intrm], axis = 1)\n",
        "gdp_cagr_5year.to_csv('GDPpercapita_5year_CAGR.csv')"
      ],
      "execution_count": 78,
      "outputs": []
    }
  ]
}